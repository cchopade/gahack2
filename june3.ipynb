{
 "cells": [
  {
   "cell_type": "code",
   "execution_count": 1,
   "metadata": {},
   "outputs": [],
   "source": [
    "import pandas as pd\n",
    "import matplotlib.pyplot as plt\n",
    "import datetime\n",
    "import numpy as np\n",
    "from tqdm import tqdm\n",
    "from statsmodels.tsa.arima_model import ARIMA\n",
    "from sklearn.metrics import mean_squared_error\n",
    "from tqdm import tqdm\n",
    "%matplotlib inline\n",
    "test_path = 'https://media.githubusercontent.com/media/cchopade/gahack2/master/test.csv'\n",
    "train_path = 'https://media.githubusercontent.com/media/cchopade/gahack2/master/train.csv'\n",
    "import warnings\n",
    "warnings.filterwarnings(\"ignore\")"
   ]
  },
  {
   "cell_type": "code",
   "execution_count": 2,
   "metadata": {},
   "outputs": [
    {
     "data": {
      "text/html": [
       "<div>\n",
       "<style scoped>\n",
       "    .dataframe tbody tr th:only-of-type {\n",
       "        vertical-align: middle;\n",
       "    }\n",
       "\n",
       "    .dataframe tbody tr th {\n",
       "        vertical-align: top;\n",
       "    }\n",
       "\n",
       "    .dataframe thead th {\n",
       "        text-align: right;\n",
       "    }\n",
       "</style>\n",
       "<table border=\"1\" class=\"dataframe\">\n",
       "  <thead>\n",
       "    <tr style=\"text-align: right;\">\n",
       "      <th></th>\n",
       "      <th>Item_ID</th>\n",
       "      <th>Datetime</th>\n",
       "      <th>Category_3</th>\n",
       "      <th>Category_2</th>\n",
       "      <th>Category_1</th>\n",
       "      <th>Price</th>\n",
       "      <th>Number_Of_Sales</th>\n",
       "      <th>day</th>\n",
       "      <th>week</th>\n",
       "      <th>month</th>\n",
       "      <th>year</th>\n",
       "    </tr>\n",
       "  </thead>\n",
       "  <tbody>\n",
       "    <tr>\n",
       "      <th>0</th>\n",
       "      <td>31375</td>\n",
       "      <td>2015-05-27</td>\n",
       "      <td>0</td>\n",
       "      <td>5.0</td>\n",
       "      <td>235</td>\n",
       "      <td>0.882</td>\n",
       "      <td>133</td>\n",
       "      <td>27</td>\n",
       "      <td>22</td>\n",
       "      <td>5</td>\n",
       "      <td>2015</td>\n",
       "    </tr>\n",
       "    <tr>\n",
       "      <th>1</th>\n",
       "      <td>31375</td>\n",
       "      <td>2015-05-28</td>\n",
       "      <td>0</td>\n",
       "      <td>5.0</td>\n",
       "      <td>235</td>\n",
       "      <td>0.787</td>\n",
       "      <td>113</td>\n",
       "      <td>28</td>\n",
       "      <td>22</td>\n",
       "      <td>5</td>\n",
       "      <td>2015</td>\n",
       "    </tr>\n",
       "    <tr>\n",
       "      <th>2</th>\n",
       "      <td>31375</td>\n",
       "      <td>2015-05-29</td>\n",
       "      <td>0</td>\n",
       "      <td>5.0</td>\n",
       "      <td>235</td>\n",
       "      <td>0.942</td>\n",
       "      <td>59</td>\n",
       "      <td>29</td>\n",
       "      <td>22</td>\n",
       "      <td>5</td>\n",
       "      <td>2015</td>\n",
       "    </tr>\n",
       "    <tr>\n",
       "      <th>3</th>\n",
       "      <td>31375</td>\n",
       "      <td>2015-05-30</td>\n",
       "      <td>0</td>\n",
       "      <td>5.0</td>\n",
       "      <td>235</td>\n",
       "      <td>1.049</td>\n",
       "      <td>56</td>\n",
       "      <td>30</td>\n",
       "      <td>22</td>\n",
       "      <td>5</td>\n",
       "      <td>2015</td>\n",
       "    </tr>\n",
       "    <tr>\n",
       "      <th>4</th>\n",
       "      <td>31375</td>\n",
       "      <td>2015-05-31</td>\n",
       "      <td>0</td>\n",
       "      <td>5.0</td>\n",
       "      <td>235</td>\n",
       "      <td>1.381</td>\n",
       "      <td>37</td>\n",
       "      <td>31</td>\n",
       "      <td>22</td>\n",
       "      <td>5</td>\n",
       "      <td>2015</td>\n",
       "    </tr>\n",
       "  </tbody>\n",
       "</table>\n",
       "</div>"
      ],
      "text/plain": [
       "   Item_ID   Datetime  Category_3  Category_2  Category_1  Price  \\\n",
       "0    31375 2015-05-27           0         5.0         235  0.882   \n",
       "1    31375 2015-05-28           0         5.0         235  0.787   \n",
       "2    31375 2015-05-29           0         5.0         235  0.942   \n",
       "3    31375 2015-05-30           0         5.0         235  1.049   \n",
       "4    31375 2015-05-31           0         5.0         235  1.381   \n",
       "\n",
       "   Number_Of_Sales  day  week  month  year  \n",
       "0              133   27    22      5  2015  \n",
       "1              113   28    22      5  2015  \n",
       "2               59   29    22      5  2015  \n",
       "3               56   30    22      5  2015  \n",
       "4               37   31    22      5  2015  "
      ]
     },
     "execution_count": 2,
     "metadata": {},
     "output_type": "execute_result"
    }
   ],
   "source": [
    "df = pd.read_csv(train_path)\n",
    "df.Datetime = pd.to_datetime(df.Datetime)\n",
    "df = df.set_index(['Item_ID','Datetime'])\n",
    "df.drop(labels = 'ID', axis = 1, inplace = True)\n",
    "df = df.sort_index(ascending=False)\n",
    "df.sort_values(['Item_ID','Datetime'],ascending=[False,True],inplace=True)\n",
    "df.reset_index(inplace=True)\n",
    "df['day'] = df[\"Datetime\"].apply(lambda x: x.day)\n",
    "df['week'] = df[\"Datetime\"].apply(lambda x: x.week)\n",
    "df['month'] = df[\"Datetime\"].apply(lambda x: x.month)\n",
    "df['year'] = df[\"Datetime\"].apply(lambda x: x.year)\n",
    "\n",
    "df.head()"
   ]
  },
  {
   "cell_type": "code",
   "execution_count": 3,
   "metadata": {},
   "outputs": [
    {
     "data": {
      "text/plain": [
       "(22790, 11)"
      ]
     },
     "execution_count": 3,
     "metadata": {},
     "output_type": "execute_result"
    }
   ],
   "source": [
    "df_train = df[(df[\"year\"] == 2014) & (df[\"month\"] <3 )].copy()\n",
    "df_train.shape"
   ]
  },
  {
   "cell_type": "code",
   "execution_count": 4,
   "metadata": {},
   "outputs": [
    {
     "data": {
      "text/plain": [
       "474"
      ]
     },
     "execution_count": 4,
     "metadata": {},
     "output_type": "execute_result"
    }
   ],
   "source": [
    "items = list(df_train.Item_ID.unique())\n",
    "len(items)"
   ]
  },
  {
   "cell_type": "code",
   "execution_count": 5,
   "metadata": {},
   "outputs": [
    {
     "data": {
      "text/plain": [
       "(14281, 11)"
      ]
     },
     "execution_count": 5,
     "metadata": {},
     "output_type": "execute_result"
    }
   ],
   "source": [
    "df_test = df[(df[\"year\"] == 2014) & (df[\"month\"] == 3 )].copy()\n",
    "df_test.shape"
   ]
  },
  {
   "cell_type": "code",
   "execution_count": 9,
   "metadata": {},
   "outputs": [],
   "source": [
    "def evaluate_arima_model(X, arima_order):\n",
    "    # prepare training dataset\n",
    "    train_size = int(len(X) * 0.8)\n",
    "    train, test = X[0:train_size], X[train_size:]\n",
    "    history = [x for x in train]\n",
    "    # make predictions\n",
    "    predictions = list()\n",
    "    for t in range(len(test)):\n",
    "        model = ARIMA(history, order=arima_order)\n",
    "        model_fit = model.fit(disp=0)\n",
    "        yhat = model_fit.forecast()[0]\n",
    "        predictions.append(yhat)\n",
    "        history.append(test[t])\n",
    "    # calculate out of sample error\n",
    "    error = mean_squared_error(test, predictions)\n",
    "    return error\n",
    "\n",
    "def evaluate_models(dataset, p_values, d_values, q_values):\n",
    "    dataset = dataset.astype('float32')\n",
    "    best_score, best_cfg = float(\"inf\"), None\n",
    "    for p in p_values:\n",
    "        for d in d_values:\n",
    "            for q in q_values:\n",
    "                order = (p,d,q)\n",
    "                try:\n",
    "                    mse = evaluate_arima_model(dataset, order)\n",
    "                    if mse < best_score:\n",
    "                        best_score, best_cfg = mse, order\n",
    "                    #print('ARIMA%s MSE=%.3f' % (order,mse))\n",
    "                except:\n",
    "                    continue\n",
    "    #print('Best ARIMA%s MSE=%.3f' % (best_cfg, best_score))\n",
    "    return best_cfg\n",
    "    \n",
    "def forecast_arima_model(train, test1, arima_order):\n",
    "    # prepare training dataset\n",
    "    #train_size = int(len(X) * 0.8)\n",
    "    #train, test = X[0:train_size], X[train_size:]\n",
    "    history = [x for x in train]\n",
    "    test = [x for x in test1]\n",
    "    # make predictions\n",
    "    predictions = list()\n",
    "    for t in range(len(test)):\n",
    "        model = ARIMA(history, order=arima_order)\n",
    "        model_fit = model.fit(disp=0)\n",
    "        yhat = model_fit.forecast()[0]\n",
    "        predictions.append(yhat)\n",
    "        history.append(test[t])\n",
    "    # calculate out of sample error\n",
    "    error = mean_squared_error(test, predictions)\n",
    "    print('Forecast RMSE=%0.3F'%(np.sqrt(error)))\n",
    "    \n",
    "    l = [l.tolist() for l in predictions]\n",
    "    pred_list = [item for sublist in l for item in sublist]\n",
    "\n",
    "    return error, pred_list"
   ]
  },
  {
   "cell_type": "code",
   "execution_count": 49,
   "metadata": {},
   "outputs": [
    {
     "name": "stderr",
     "output_type": "stream",
     "text": [
      "\r",
      "  0%|          | 0/6 [00:00<?, ?it/s]"
     ]
    },
    {
     "name": "stdout",
     "output_type": "stream",
     "text": [
      "ARIMA(1, 1, 1) MSE=0.018\n"
     ]
    },
    {
     "name": "stderr",
     "output_type": "stream",
     "text": [
      "\r",
      " 17%|█▋        | 1/6 [00:36<03:00, 36.07s/it]"
     ]
    },
    {
     "name": "stdout",
     "output_type": "stream",
     "text": [
      "ARIMA(2, 1, 1) MSE=0.018\n"
     ]
    },
    {
     "name": "stderr",
     "output_type": "stream",
     "text": [
      " 67%|██████▋   | 4/6 [03:47<01:53, 56.83s/it]"
     ]
    },
    {
     "name": "stdout",
     "output_type": "stream",
     "text": [
      "ARIMA(8, 1, 1) MSE=0.018\n"
     ]
    },
    {
     "name": "stderr",
     "output_type": "stream",
     "text": [
      "100%|██████████| 6/6 [25:00<00:00, 250.01s/it]\n"
     ]
    },
    {
     "name": "stdout",
     "output_type": "stream",
     "text": [
      "Best ARIMA(1, 1, 1) MSE=0.018\n",
      "CPU times: user 1h 43min 27s, sys: 1min 14s, total: 1h 44min 42s\n",
      "Wall time: 27min 5s\n"
     ]
    }
   ],
   "source": [
    "%%time\n",
    "item1_train = df[df.Item_ID == items[0]].copy()\n",
    "item1_train.set_index(item1_train.Datetime,inplace=True)\n",
    "item1_train.head()\n",
    "\n",
    "p = [1,2,4,6,8,10]\n",
    "q = [1,2]\n",
    "d = [1,2]\n",
    "\n",
    "best = evaluate_models(item1_train['Price'],p,d,q)\n",
    "\n",
    "item1_test = df[df.Item_ID == items[0]].copy()\n",
    "item1_test.set_index(item1_test.Datetime,inplace=True)\n",
    "item1_test.head()\n",
    "forecast_arima_model(item1_train['Price'], item1_test['Price'],best"
   ]
  },
  {
   "cell_type": "code",
   "execution_count": 52,
   "metadata": {},
   "outputs": [
    {
     "name": "stdout",
     "output_type": "stream",
     "text": [
      "Forecast MSE=0.015\n"
     ]
    },
    {
     "data": {
      "text/plain": [
       "0.014892085700741867"
      ]
     },
     "execution_count": 52,
     "metadata": {},
     "output_type": "execute_result"
    }
   ],
   "source": [
    "forecast_arima_model(item1_train['Price'], item1_test['Price'],(1,1,1))"
   ]
  },
  {
   "cell_type": "code",
   "execution_count": 26,
   "metadata": {},
   "outputs": [
    {
     "name": "stdout",
     "output_type": "stream",
     "text": [
      "Forecast RMSE=55.795\n"
     ]
    },
    {
     "ename": "TypeError",
     "evalue": "'NoneType' object is not iterable",
     "output_type": "error",
     "traceback": [
      "\u001b[0;31m---------------------------------------------------------------------------\u001b[0m",
      "\u001b[0;31mTypeError\u001b[0m                                 Traceback (most recent call last)",
      "\u001b[0;32m<timed exec>\u001b[0m in \u001b[0;36m<module>\u001b[0;34m()\u001b[0m\n",
      "\u001b[0;32m<ipython-input-9-20d38b12afa1>\u001b[0m in \u001b[0;36mforecast_arima_model\u001b[0;34m(train, test1, arima_order)\u001b[0m\n\u001b[1;32m     42\u001b[0m     \u001b[0mpredictions\u001b[0m \u001b[0;34m=\u001b[0m \u001b[0mlist\u001b[0m\u001b[0;34m(\u001b[0m\u001b[0;34m)\u001b[0m\u001b[0;34m\u001b[0m\u001b[0m\n\u001b[1;32m     43\u001b[0m     \u001b[0;32mfor\u001b[0m \u001b[0mt\u001b[0m \u001b[0;32min\u001b[0m \u001b[0mrange\u001b[0m\u001b[0;34m(\u001b[0m\u001b[0mlen\u001b[0m\u001b[0;34m(\u001b[0m\u001b[0mtest\u001b[0m\u001b[0;34m)\u001b[0m\u001b[0;34m)\u001b[0m\u001b[0;34m:\u001b[0m\u001b[0;34m\u001b[0m\u001b[0m\n\u001b[0;32m---> 44\u001b[0;31m         \u001b[0mmodel\u001b[0m \u001b[0;34m=\u001b[0m \u001b[0mARIMA\u001b[0m\u001b[0;34m(\u001b[0m\u001b[0mhistory\u001b[0m\u001b[0;34m,\u001b[0m \u001b[0morder\u001b[0m\u001b[0;34m=\u001b[0m\u001b[0marima_order\u001b[0m\u001b[0;34m)\u001b[0m\u001b[0;34m\u001b[0m\u001b[0m\n\u001b[0m\u001b[1;32m     45\u001b[0m         \u001b[0mmodel_fit\u001b[0m \u001b[0;34m=\u001b[0m \u001b[0mmodel\u001b[0m\u001b[0;34m.\u001b[0m\u001b[0mfit\u001b[0m\u001b[0;34m(\u001b[0m\u001b[0mdisp\u001b[0m\u001b[0;34m=\u001b[0m\u001b[0;36m0\u001b[0m\u001b[0;34m)\u001b[0m\u001b[0;34m\u001b[0m\u001b[0m\n\u001b[1;32m     46\u001b[0m         \u001b[0myhat\u001b[0m \u001b[0;34m=\u001b[0m \u001b[0mmodel_fit\u001b[0m\u001b[0;34m.\u001b[0m\u001b[0mforecast\u001b[0m\u001b[0;34m(\u001b[0m\u001b[0;34m)\u001b[0m\u001b[0;34m[\u001b[0m\u001b[0;36m0\u001b[0m\u001b[0;34m]\u001b[0m\u001b[0;34m\u001b[0m\u001b[0m\n",
      "\u001b[0;32m~/anaconda3/lib/python3.6/site-packages/statsmodels/tsa/arima_model.py\u001b[0m in \u001b[0;36m__new__\u001b[0;34m(cls, endog, order, exog, dates, freq, missing)\u001b[0m\n\u001b[1;32m    989\u001b[0m     def __new__(cls, endog, order, exog=None, dates=None, freq=None,\n\u001b[1;32m    990\u001b[0m                 missing='none'):\n\u001b[0;32m--> 991\u001b[0;31m         \u001b[0mp\u001b[0m\u001b[0;34m,\u001b[0m \u001b[0md\u001b[0m\u001b[0;34m,\u001b[0m \u001b[0mq\u001b[0m \u001b[0;34m=\u001b[0m \u001b[0morder\u001b[0m\u001b[0;34m\u001b[0m\u001b[0m\n\u001b[0m\u001b[1;32m    992\u001b[0m         \u001b[0;32mif\u001b[0m \u001b[0md\u001b[0m \u001b[0;34m==\u001b[0m \u001b[0;36m0\u001b[0m\u001b[0;34m:\u001b[0m  \u001b[0;31m# then we just use an ARMA model\u001b[0m\u001b[0;34m\u001b[0m\u001b[0m\n\u001b[1;32m    993\u001b[0m             \u001b[0;32mreturn\u001b[0m \u001b[0mARMA\u001b[0m\u001b[0;34m(\u001b[0m\u001b[0mendog\u001b[0m\u001b[0;34m,\u001b[0m \u001b[0;34m(\u001b[0m\u001b[0mp\u001b[0m\u001b[0;34m,\u001b[0m \u001b[0mq\u001b[0m\u001b[0;34m)\u001b[0m\u001b[0;34m,\u001b[0m \u001b[0mexog\u001b[0m\u001b[0;34m,\u001b[0m \u001b[0mdates\u001b[0m\u001b[0;34m,\u001b[0m \u001b[0mfreq\u001b[0m\u001b[0;34m,\u001b[0m \u001b[0mmissing\u001b[0m\u001b[0;34m)\u001b[0m\u001b[0;34m\u001b[0m\u001b[0m\n",
      "\u001b[0;31mTypeError\u001b[0m: 'NoneType' object is not iterable"
     ]
    },
    {
     "data": {
      "image/png": "[encoded data removed]",
      "text/plain": [
       "<Figure size 720x576 with 1 Axes>"
      ]
     },
     "metadata": {},
     "output_type": "display_data"
    }
   ],
   "source": [
    "%%time\n",
    "for i in items[7:10]:\n",
    "    \n",
    "    item1_train = df_train[df_train.Item_ID == i]\n",
    "    item1_train.set_index(item1_train.Datetime,inplace=True)\n",
    "    item1_train.head()\n",
    "\n",
    "    p = [1,2,4,6,8,10]\n",
    "    q = [1,2]\n",
    "    d = [1,2]\n",
    "\n",
    "    best = evaluate_models(item1_train['Number_Of_Sales'],p,d,q)\n",
    "\n",
    "    item1_test = df_test[df_test.Item_ID == i]\n",
    "    item1_test.set_index(item1_test.Datetime,inplace=True)\n",
    "    item1_test.head()\n",
    "    error, pred = forecast_arima_model(item1_train['Number_Of_Sales'], item1_test['Number_Of_Sales'],best)\n",
    "    item1_test['pred'] = pred\n",
    "\n",
    "    plt.figure(figsize=(10,8))\n",
    "    plt.plot(item1_test.index, item1_test.Number_Of_Sales, label = 'Actual')\n",
    "    plt.plot(item1_test.index, item1_test.pred, label = 'Predicted')\n",
    "    plt.legend()\n",
    "    plt.title('NoS Prediction | Product: {} | RMSE: {}'.format(i,error))\n",
    "    label = str(i)+\"_nos.png\"                     \n",
    "    plt.savefig(label)"
   ]
  }
 ],
 "metadata": {
  "kernelspec": {
   "display_name": "Python 3",
   "language": "python",
   "name": "python3"
  },
  "language_info": {
   "codemirror_mode": {
    "name": "ipython",
    "version": 3
   },
   "file_extension": ".py",
   "mimetype": "text/x-python",
   "name": "python",
   "nbconvert_exporter": "python",
   "pygments_lexer": "ipython3",
   "version": "3.6.5"
  }
 },
 "nbformat": 4,
 "nbformat_minor": 2
}
