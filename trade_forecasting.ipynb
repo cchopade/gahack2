{
 "cells": [
  {
   "cell_type": "code",
   "execution_count": 37,
   "metadata": {},
   "outputs": [],
   "source": [
    "import pandas as pd\n",
    "import matplotlib.pyplot as plt\n",
    "import datetime\n",
    "import numpy as np\n",
    "from tqdm import tqdm\n",
    "from statsmodels.tsa.arima_model import ARIMA\n",
    "from sklearn.metrics import mean_squared_error\n",
    "from tqdm import tqdm\n",
    "%matplotlib inline\n",
    "test_path = 'https://media.githubusercontent.com/media/cchopade/gahack2/master/test.csv'\n",
    "train_path = 'https://media.githubusercontent.com/media/cchopade/gahack2/master/train.csv'"
   ]
  },
  {
   "cell_type": "code",
   "execution_count": 130,
   "metadata": {},
   "outputs": [
    {
     "data": {
      "text/html": [
       "<div>\n",
       "<style scoped>\n",
       "    .dataframe tbody tr th:only-of-type {\n",
       "        vertical-align: middle;\n",
       "    }\n",
       "\n",
       "    .dataframe tbody tr th {\n",
       "        vertical-align: top;\n",
       "    }\n",
       "\n",
       "    .dataframe thead th {\n",
       "        text-align: right;\n",
       "    }\n",
       "</style>\n",
       "<table border=\"1\" class=\"dataframe\">\n",
       "  <thead>\n",
       "    <tr style=\"text-align: right;\">\n",
       "      <th></th>\n",
       "      <th>ID</th>\n",
       "      <th>Item_ID</th>\n",
       "      <th>Category_3</th>\n",
       "      <th>Category_2</th>\n",
       "      <th>Category_1</th>\n",
       "      <th>Price</th>\n",
       "      <th>Number_Of_Sales</th>\n",
       "    </tr>\n",
       "    <tr>\n",
       "      <th>Datetime</th>\n",
       "      <th></th>\n",
       "      <th></th>\n",
       "      <th></th>\n",
       "      <th></th>\n",
       "      <th></th>\n",
       "      <th></th>\n",
       "      <th></th>\n",
       "    </tr>\n",
       "  </thead>\n",
       "  <tbody>\n",
       "    <tr>\n",
       "      <th>2014-01-01</th>\n",
       "      <td>30495_20140101</td>\n",
       "      <td>30495</td>\n",
       "      <td>0</td>\n",
       "      <td>2.0</td>\n",
       "      <td>90</td>\n",
       "      <td>165.123</td>\n",
       "      <td>1</td>\n",
       "    </tr>\n",
       "    <tr>\n",
       "      <th>2014-01-01</th>\n",
       "      <td>30375_20140101</td>\n",
       "      <td>30375</td>\n",
       "      <td>0</td>\n",
       "      <td>2.0</td>\n",
       "      <td>307</td>\n",
       "      <td>68.666</td>\n",
       "      <td>5</td>\n",
       "    </tr>\n",
       "    <tr>\n",
       "      <th>2014-01-01</th>\n",
       "      <td>30011_20140101</td>\n",
       "      <td>30011</td>\n",
       "      <td>0</td>\n",
       "      <td>3.0</td>\n",
       "      <td>67</td>\n",
       "      <td>253.314</td>\n",
       "      <td>2</td>\n",
       "    </tr>\n",
       "    <tr>\n",
       "      <th>2014-01-01</th>\n",
       "      <td>30864_20140101</td>\n",
       "      <td>30864</td>\n",
       "      <td>0</td>\n",
       "      <td>2.0</td>\n",
       "      <td>315</td>\n",
       "      <td>223.122</td>\n",
       "      <td>1</td>\n",
       "    </tr>\n",
       "    <tr>\n",
       "      <th>2014-01-01</th>\n",
       "      <td>30780_20140101</td>\n",
       "      <td>30780</td>\n",
       "      <td>1</td>\n",
       "      <td>2.0</td>\n",
       "      <td>132</td>\n",
       "      <td>28.750</td>\n",
       "      <td>1</td>\n",
       "    </tr>\n",
       "  </tbody>\n",
       "</table>\n",
       "</div>"
      ],
      "text/plain": [
       "                        ID  Item_ID  Category_3  Category_2  Category_1  \\\n",
       "Datetime                                                                  \n",
       "2014-01-01  30495_20140101    30495           0         2.0          90   \n",
       "2014-01-01  30375_20140101    30375           0         2.0         307   \n",
       "2014-01-01  30011_20140101    30011           0         3.0          67   \n",
       "2014-01-01  30864_20140101    30864           0         2.0         315   \n",
       "2014-01-01  30780_20140101    30780           1         2.0         132   \n",
       "\n",
       "              Price  Number_Of_Sales  \n",
       "Datetime                              \n",
       "2014-01-01  165.123                1  \n",
       "2014-01-01   68.666                5  \n",
       "2014-01-01  253.314                2  \n",
       "2014-01-01  223.122                1  \n",
       "2014-01-01   28.750                1  "
      ]
     },
     "execution_count": 130,
     "metadata": {},
     "output_type": "execute_result"
    }
   ],
   "source": [
    "#df_train = pd.read_csv(train_path)\n",
    "df_test = pd.read_csv(test_path)\n",
    "#df_train.Datetime = pd.to_datetime(df_train.Datetime)\n",
    "\n",
    "df_train=pd.read_csv(train_path,index_col='Datetime',parse_dates=True)\n",
    "df_train.drop(labels = 'ID', axis = 1)\n",
    "df_train.head()"
   ]
  },
  {
   "cell_type": "code",
   "execution_count": 76,
   "metadata": {},
   "outputs": [
    {
     "data": {
      "text/plain": [
       "Index(['ID', 'Item_ID', 'Category_3', 'Category_2', 'Category_1', 'Price',\n",
       "       'Number_Of_Sales'],\n",
       "      dtype='object')"
      ]
     },
     "execution_count": 76,
     "metadata": {},
     "output_type": "execute_result"
    }
   ],
   "source": [
    "df_train.columns"
   ]
  },
  {
   "cell_type": "code",
   "execution_count": 84,
   "metadata": {},
   "outputs": [
    {
     "data": {
      "text/plain": [
       "<pandas.core.groupby.groupby.SeriesGroupBy object at 0x7f8ca5a12400>"
      ]
     },
     "execution_count": 84,
     "metadata": {},
     "output_type": "execute_result"
    }
   ],
   "source": [
    "df_train.groupby(['Datetime','Item_ID'])['Price']"
   ]
  },
  {
   "cell_type": "code",
   "execution_count": 3,
   "metadata": {},
   "outputs": [],
   "source": [
    "df = pd.read_csv(train_path)\n",
    "df.Datetime = pd.to_datetime(df.Datetime)\n",
    "df = df.set_index(['Item_ID','Datetime'])"
   ]
  },
  {
   "cell_type": "code",
   "execution_count": 4,
   "metadata": {},
   "outputs": [
    {
     "data": {
      "text/html": [
       "<div>\n",
       "<style scoped>\n",
       "    .dataframe tbody tr th:only-of-type {\n",
       "        vertical-align: middle;\n",
       "    }\n",
       "\n",
       "    .dataframe tbody tr th {\n",
       "        vertical-align: top;\n",
       "    }\n",
       "\n",
       "    .dataframe thead th {\n",
       "        text-align: right;\n",
       "    }\n",
       "</style>\n",
       "<table border=\"1\" class=\"dataframe\">\n",
       "  <thead>\n",
       "    <tr style=\"text-align: right;\">\n",
       "      <th></th>\n",
       "      <th></th>\n",
       "      <th>ID</th>\n",
       "      <th>Category_3</th>\n",
       "      <th>Category_2</th>\n",
       "      <th>Category_1</th>\n",
       "      <th>Price</th>\n",
       "      <th>Number_Of_Sales</th>\n",
       "    </tr>\n",
       "    <tr>\n",
       "      <th>Item_ID</th>\n",
       "      <th>Datetime</th>\n",
       "      <th></th>\n",
       "      <th></th>\n",
       "      <th></th>\n",
       "      <th></th>\n",
       "      <th></th>\n",
       "      <th></th>\n",
       "    </tr>\n",
       "  </thead>\n",
       "  <tbody>\n",
       "    <tr>\n",
       "      <th>30495</th>\n",
       "      <th>2014-01-01</th>\n",
       "      <td>30495_20140101</td>\n",
       "      <td>0</td>\n",
       "      <td>2.0</td>\n",
       "      <td>90</td>\n",
       "      <td>165.123</td>\n",
       "      <td>1</td>\n",
       "    </tr>\n",
       "    <tr>\n",
       "      <th>30375</th>\n",
       "      <th>2014-01-01</th>\n",
       "      <td>30375_20140101</td>\n",
       "      <td>0</td>\n",
       "      <td>2.0</td>\n",
       "      <td>307</td>\n",
       "      <td>68.666</td>\n",
       "      <td>5</td>\n",
       "    </tr>\n",
       "    <tr>\n",
       "      <th>30011</th>\n",
       "      <th>2014-01-01</th>\n",
       "      <td>30011_20140101</td>\n",
       "      <td>0</td>\n",
       "      <td>3.0</td>\n",
       "      <td>67</td>\n",
       "      <td>253.314</td>\n",
       "      <td>2</td>\n",
       "    </tr>\n",
       "    <tr>\n",
       "      <th>30864</th>\n",
       "      <th>2014-01-01</th>\n",
       "      <td>30864_20140101</td>\n",
       "      <td>0</td>\n",
       "      <td>2.0</td>\n",
       "      <td>315</td>\n",
       "      <td>223.122</td>\n",
       "      <td>1</td>\n",
       "    </tr>\n",
       "    <tr>\n",
       "      <th>30780</th>\n",
       "      <th>2014-01-01</th>\n",
       "      <td>30780_20140101</td>\n",
       "      <td>1</td>\n",
       "      <td>2.0</td>\n",
       "      <td>132</td>\n",
       "      <td>28.750</td>\n",
       "      <td>1</td>\n",
       "    </tr>\n",
       "  </tbody>\n",
       "</table>\n",
       "</div>"
      ],
      "text/plain": [
       "                                ID  Category_3  Category_2  Category_1  \\\n",
       "Item_ID Datetime                                                         \n",
       "30495   2014-01-01  30495_20140101           0         2.0          90   \n",
       "30375   2014-01-01  30375_20140101           0         2.0         307   \n",
       "30011   2014-01-01  30011_20140101           0         3.0          67   \n",
       "30864   2014-01-01  30864_20140101           0         2.0         315   \n",
       "30780   2014-01-01  30780_20140101           1         2.0         132   \n",
       "\n",
       "                      Price  Number_Of_Sales  \n",
       "Item_ID Datetime                              \n",
       "30495   2014-01-01  165.123                1  \n",
       "30375   2014-01-01   68.666                5  \n",
       "30011   2014-01-01  253.314                2  \n",
       "30864   2014-01-01  223.122                1  \n",
       "30780   2014-01-01   28.750                1  "
      ]
     },
     "execution_count": 4,
     "metadata": {},
     "output_type": "execute_result"
    }
   ],
   "source": [
    "df.head()"
   ]
  },
  {
   "cell_type": "code",
   "execution_count": 7,
   "metadata": {},
   "outputs": [
    {
     "data": {
      "text/html": [
       "<div>\n",
       "<style scoped>\n",
       "    .dataframe tbody tr th:only-of-type {\n",
       "        vertical-align: middle;\n",
       "    }\n",
       "\n",
       "    .dataframe tbody tr th {\n",
       "        vertical-align: top;\n",
       "    }\n",
       "\n",
       "    .dataframe thead th {\n",
       "        text-align: right;\n",
       "    }\n",
       "</style>\n",
       "<table border=\"1\" class=\"dataframe\">\n",
       "  <thead>\n",
       "    <tr style=\"text-align: right;\">\n",
       "      <th></th>\n",
       "      <th>index</th>\n",
       "      <th>Item_ID</th>\n",
       "      <th>Datetime</th>\n",
       "      <th>ID</th>\n",
       "      <th>Category_3</th>\n",
       "      <th>Category_2</th>\n",
       "      <th>Category_1</th>\n",
       "      <th>Price</th>\n",
       "      <th>Number_Of_Sales</th>\n",
       "    </tr>\n",
       "  </thead>\n",
       "  <tbody>\n",
       "    <tr>\n",
       "      <th>0</th>\n",
       "      <td>0</td>\n",
       "      <td>31375</td>\n",
       "      <td>2015-05-27</td>\n",
       "      <td>31375_20150527</td>\n",
       "      <td>0</td>\n",
       "      <td>5.0</td>\n",
       "      <td>235</td>\n",
       "      <td>0.882</td>\n",
       "      <td>133</td>\n",
       "    </tr>\n",
       "    <tr>\n",
       "      <th>1</th>\n",
       "      <td>1</td>\n",
       "      <td>31375</td>\n",
       "      <td>2015-05-28</td>\n",
       "      <td>31375_20150528</td>\n",
       "      <td>0</td>\n",
       "      <td>5.0</td>\n",
       "      <td>235</td>\n",
       "      <td>0.787</td>\n",
       "      <td>113</td>\n",
       "    </tr>\n",
       "    <tr>\n",
       "      <th>2</th>\n",
       "      <td>2</td>\n",
       "      <td>31375</td>\n",
       "      <td>2015-05-29</td>\n",
       "      <td>31375_20150529</td>\n",
       "      <td>0</td>\n",
       "      <td>5.0</td>\n",
       "      <td>235</td>\n",
       "      <td>0.942</td>\n",
       "      <td>59</td>\n",
       "    </tr>\n",
       "    <tr>\n",
       "      <th>3</th>\n",
       "      <td>3</td>\n",
       "      <td>31375</td>\n",
       "      <td>2015-05-30</td>\n",
       "      <td>31375_20150530</td>\n",
       "      <td>0</td>\n",
       "      <td>5.0</td>\n",
       "      <td>235</td>\n",
       "      <td>1.049</td>\n",
       "      <td>56</td>\n",
       "    </tr>\n",
       "    <tr>\n",
       "      <th>4</th>\n",
       "      <td>4</td>\n",
       "      <td>31375</td>\n",
       "      <td>2015-05-31</td>\n",
       "      <td>31375_20150531</td>\n",
       "      <td>0</td>\n",
       "      <td>5.0</td>\n",
       "      <td>235</td>\n",
       "      <td>1.381</td>\n",
       "      <td>37</td>\n",
       "    </tr>\n",
       "  </tbody>\n",
       "</table>\n",
       "</div>"
      ],
      "text/plain": [
       "   index  Item_ID   Datetime              ID  Category_3  Category_2  \\\n",
       "0      0    31375 2015-05-27  31375_20150527           0         5.0   \n",
       "1      1    31375 2015-05-28  31375_20150528           0         5.0   \n",
       "2      2    31375 2015-05-29  31375_20150529           0         5.0   \n",
       "3      3    31375 2015-05-30  31375_20150530           0         5.0   \n",
       "4      4    31375 2015-05-31  31375_20150531           0         5.0   \n",
       "\n",
       "   Category_1  Price  Number_Of_Sales  \n",
       "0         235  0.882              133  \n",
       "1         235  0.787              113  \n",
       "2         235  0.942               59  \n",
       "3         235  1.049               56  \n",
       "4         235  1.381               37  "
      ]
     },
     "execution_count": 7,
     "metadata": {},
     "output_type": "execute_result"
    }
   ],
   "source": [
    "df = df.sort_index(ascending=False)\n",
    "df.sort_values(['Item_ID','Datetime'],ascending=[False,True],inplace=True)\n",
    "df.reset_index(inplace=True)\n",
    "df.head()"
   ]
  },
  {
   "cell_type": "code",
   "execution_count": 9,
   "metadata": {},
   "outputs": [],
   "source": [
    "items = list(df.Item_ID.unique())"
   ]
  },
  {
   "cell_type": "code",
   "execution_count": 19,
   "metadata": {
    "scrolled": true
   },
   "outputs": [
    {
     "name": "stderr",
     "output_type": "stream",
     "text": [
      "/home/cchopade/anaconda3/lib/python3.6/site-packages/pandas/core/frame.py:3694: SettingWithCopyWarning: \n",
      "A value is trying to be set on a copy of a slice from a DataFrame\n",
      "\n",
      "See the caveats in the documentation: http://pandas.pydata.org/pandas-docs/stable/indexing.html#indexing-view-versus-copy\n",
      "  errors=errors)\n"
     ]
    },
    {
     "data": {
      "text/html": [
       "<div>\n",
       "<style scoped>\n",
       "    .dataframe tbody tr th:only-of-type {\n",
       "        vertical-align: middle;\n",
       "    }\n",
       "\n",
       "    .dataframe tbody tr th {\n",
       "        vertical-align: top;\n",
       "    }\n",
       "\n",
       "    .dataframe thead th {\n",
       "        text-align: right;\n",
       "    }\n",
       "</style>\n",
       "<table border=\"1\" class=\"dataframe\">\n",
       "  <thead>\n",
       "    <tr style=\"text-align: right;\">\n",
       "      <th></th>\n",
       "      <th>Item_ID</th>\n",
       "      <th>Datetime</th>\n",
       "      <th>Category_3</th>\n",
       "      <th>Category_2</th>\n",
       "      <th>Category_1</th>\n",
       "      <th>Price</th>\n",
       "      <th>Number_Of_Sales</th>\n",
       "    </tr>\n",
       "    <tr>\n",
       "      <th>Datetime</th>\n",
       "      <th></th>\n",
       "      <th></th>\n",
       "      <th></th>\n",
       "      <th></th>\n",
       "      <th></th>\n",
       "      <th></th>\n",
       "      <th></th>\n",
       "    </tr>\n",
       "  </thead>\n",
       "  <tbody>\n",
       "    <tr>\n",
       "      <th>2014-01-01</th>\n",
       "      <td>30258</td>\n",
       "      <td>2014-01-01</td>\n",
       "      <td>1</td>\n",
       "      <td>5.0</td>\n",
       "      <td>379</td>\n",
       "      <td>0.500</td>\n",
       "      <td>43</td>\n",
       "    </tr>\n",
       "    <tr>\n",
       "      <th>2014-01-02</th>\n",
       "      <td>30258</td>\n",
       "      <td>2014-01-02</td>\n",
       "      <td>1</td>\n",
       "      <td>5.0</td>\n",
       "      <td>379</td>\n",
       "      <td>0.487</td>\n",
       "      <td>59</td>\n",
       "    </tr>\n",
       "    <tr>\n",
       "      <th>2014-01-03</th>\n",
       "      <td>30258</td>\n",
       "      <td>2014-01-03</td>\n",
       "      <td>1</td>\n",
       "      <td>5.0</td>\n",
       "      <td>379</td>\n",
       "      <td>0.509</td>\n",
       "      <td>36</td>\n",
       "    </tr>\n",
       "    <tr>\n",
       "      <th>2014-01-04</th>\n",
       "      <td>30258</td>\n",
       "      <td>2014-01-04</td>\n",
       "      <td>1</td>\n",
       "      <td>5.0</td>\n",
       "      <td>379</td>\n",
       "      <td>0.572</td>\n",
       "      <td>65</td>\n",
       "    </tr>\n",
       "    <tr>\n",
       "      <th>2014-01-05</th>\n",
       "      <td>30258</td>\n",
       "      <td>2014-01-05</td>\n",
       "      <td>1</td>\n",
       "      <td>5.0</td>\n",
       "      <td>379</td>\n",
       "      <td>0.571</td>\n",
       "      <td>55</td>\n",
       "    </tr>\n",
       "  </tbody>\n",
       "</table>\n",
       "</div>"
      ],
      "text/plain": [
       "            Item_ID   Datetime  Category_3  Category_2  Category_1  Price  \\\n",
       "Datetime                                                                    \n",
       "2014-01-01    30258 2014-01-01           1         5.0         379  0.500   \n",
       "2014-01-02    30258 2014-01-02           1         5.0         379  0.487   \n",
       "2014-01-03    30258 2014-01-03           1         5.0         379  0.509   \n",
       "2014-01-04    30258 2014-01-04           1         5.0         379  0.572   \n",
       "2014-01-05    30258 2014-01-05           1         5.0         379  0.571   \n",
       "\n",
       "            Number_Of_Sales  \n",
       "Datetime                     \n",
       "2014-01-01               43  \n",
       "2014-01-02               59  \n",
       "2014-01-03               36  \n",
       "2014-01-04               65  \n",
       "2014-01-05               55  "
      ]
     },
     "execution_count": 19,
     "metadata": {},
     "output_type": "execute_result"
    }
   ],
   "source": [
    "item1 = df[df.Item_ID == 30258]\n",
    "item1.set_index(item1.Datetime,inplace=True)\n",
    "item1.drop(labels=['index','ID'], axis = 1,inplace=True)\n",
    "item1.head()"
   ]
  },
  {
   "cell_type": "code",
   "execution_count": 27,
   "metadata": {},
   "outputs": [
    {
     "name": "stdout",
     "output_type": "stream",
     "text": [
      "<class 'pandas.core.frame.DataFrame'>\n",
      "DatetimeIndex: 885 entries, 2014-01-01 to 2016-06-03\n",
      "Data columns (total 7 columns):\n",
      "Item_ID            885 non-null int64\n",
      "Datetime           885 non-null datetime64[ns]\n",
      "Category_3         885 non-null int64\n",
      "Category_2         885 non-null float64\n",
      "Category_1         885 non-null int64\n",
      "Price              885 non-null float64\n",
      "Number_Of_Sales    885 non-null int64\n",
      "dtypes: datetime64[ns](1), float64(2), int64(4)\n",
      "memory usage: 55.3 KB\n"
     ]
    }
   ],
   "source": [
    "item1.info()"
   ]
  },
  {
   "cell_type": "code",
   "execution_count": 39,
   "metadata": {},
   "outputs": [
    {
     "data": {
      "text/plain": [
       "0.16785323314121522"
      ]
     },
     "execution_count": 39,
     "metadata": {},
     "output_type": "execute_result"
    }
   ],
   "source": [
    "def evaluate_arima_model(X, arima_order):\n",
    "\t# prepare training dataset\n",
    "\ttrain_size = int(len(X) * 0.8)\n",
    "\ttrain, test = X[0:train_size], X[train_size:]\n",
    "\thistory = [x for x in train]\n",
    "\t# make predictions\n",
    "\tpredictions = list()\n",
    "\tfor t in range(len(test)):\n",
    "\t\tmodel = ARIMA(history, order=arima_order)\n",
    "\t\tmodel_fit = model.fit(disp=0)\n",
    "\t\tyhat = model_fit.forecast()[0]\n",
    "\t\tpredictions.append(yhat)\n",
    "\t\thistory.append(test[t])\n",
    "\t# calculate out of sample error\n",
    "\terror = mean_squared_error(test, predictions)\n",
    "\treturn error\n",
    "\n",
    "evaluate_arima_model(item1['Price'], (1,1,1))"
   ]
  },
  {
   "cell_type": "code",
   "execution_count": 40,
   "metadata": {},
   "outputs": [
    {
     "name": "stderr",
     "output_type": "stream",
     "text": [
      " 50%|█████     | 1/2 [00:52<00:52, 52.61s/it]"
     ]
    },
    {
     "name": "stdout",
     "output_type": "stream",
     "text": [
      "ARIMA(1, 1, 1) MSE=0.168\n"
     ]
    },
    {
     "name": "stderr",
     "output_type": "stream",
     "text": [
      "\r",
      "100%|██████████| 2/2 [02:14<00:00, 67.42s/it]"
     ]
    },
    {
     "name": "stdout",
     "output_type": "stream",
     "text": [
      "ARIMA(2, 1, 1) MSE=0.168\n",
      "Best ARIMA(2, 1, 1) MSE=0.168\n"
     ]
    },
    {
     "name": "stderr",
     "output_type": "stream",
     "text": [
      "\n"
     ]
    }
   ],
   "source": [
    "def evaluate_models(dataset, p_values, d_values, q_values):\n",
    "\tdataset = dataset.astype('float32')\n",
    "\tbest_score, best_cfg = float(\"inf\"), None\n",
    "\tfor p in tqdm(p_values):\n",
    "\t\tfor d in d_values:\n",
    "\t\t\tfor q in q_values:\n",
    "\t\t\t\torder = (p,d,q)\n",
    "\t\t\t\ttry:\n",
    "\t\t\t\t\tmse = evaluate_arima_model(dataset, order)\n",
    "\t\t\t\t\tif mse < best_score:\n",
    "\t\t\t\t\t\tbest_score, best_cfg = mse, order\n",
    "\t\t\t\t\tprint('ARIMA%s MSE=%.3f' % (order,mse))\n",
    "\t\t\t\texcept:\n",
    "\t\t\t\t\tcontinue\n",
    "\tprint('Best ARIMA%s MSE=%.3f' % (best_cfg, best_score))\n",
    "    \n",
    "p = [1,2]\n",
    "q = [1]\n",
    "d = [1]\n",
    "\n",
    "evaluate_models(item1['Price'],p,d,q)"
   ]
  },
  {
   "cell_type": "code",
   "execution_count": 58,
   "metadata": {},
   "outputs": [],
   "source": [
    "import statsmodels.formula.api as sm"
   ]
  },
  {
   "cell_type": "code",
   "execution_count": 60,
   "metadata": {},
   "outputs": [
    {
     "data": {
      "text/html": [
       "<div>\n",
       "<style scoped>\n",
       "    .dataframe tbody tr th:only-of-type {\n",
       "        vertical-align: middle;\n",
       "    }\n",
       "\n",
       "    .dataframe tbody tr th {\n",
       "        vertical-align: top;\n",
       "    }\n",
       "\n",
       "    .dataframe thead th {\n",
       "        text-align: right;\n",
       "    }\n",
       "</style>\n",
       "<table border=\"1\" class=\"dataframe\">\n",
       "  <thead>\n",
       "    <tr style=\"text-align: right;\">\n",
       "      <th></th>\n",
       "      <th>index</th>\n",
       "      <th>Item_ID</th>\n",
       "      <th>Datetime</th>\n",
       "      <th>ID</th>\n",
       "      <th>Category_3</th>\n",
       "      <th>Category_2</th>\n",
       "      <th>Category_1</th>\n",
       "      <th>Price</th>\n",
       "      <th>Number_Of_Sales</th>\n",
       "    </tr>\n",
       "  </thead>\n",
       "  <tbody>\n",
       "    <tr>\n",
       "      <th>0</th>\n",
       "      <td>0</td>\n",
       "      <td>31375</td>\n",
       "      <td>2015-05-27</td>\n",
       "      <td>31375_20150527</td>\n",
       "      <td>0</td>\n",
       "      <td>5.0</td>\n",
       "      <td>235</td>\n",
       "      <td>0.882</td>\n",
       "      <td>133</td>\n",
       "    </tr>\n",
       "    <tr>\n",
       "      <th>1</th>\n",
       "      <td>1</td>\n",
       "      <td>31375</td>\n",
       "      <td>2015-05-28</td>\n",
       "      <td>31375_20150528</td>\n",
       "      <td>0</td>\n",
       "      <td>5.0</td>\n",
       "      <td>235</td>\n",
       "      <td>0.787</td>\n",
       "      <td>113</td>\n",
       "    </tr>\n",
       "    <tr>\n",
       "      <th>2</th>\n",
       "      <td>2</td>\n",
       "      <td>31375</td>\n",
       "      <td>2015-05-29</td>\n",
       "      <td>31375_20150529</td>\n",
       "      <td>0</td>\n",
       "      <td>5.0</td>\n",
       "      <td>235</td>\n",
       "      <td>0.942</td>\n",
       "      <td>59</td>\n",
       "    </tr>\n",
       "    <tr>\n",
       "      <th>3</th>\n",
       "      <td>3</td>\n",
       "      <td>31375</td>\n",
       "      <td>2015-05-30</td>\n",
       "      <td>31375_20150530</td>\n",
       "      <td>0</td>\n",
       "      <td>5.0</td>\n",
       "      <td>235</td>\n",
       "      <td>1.049</td>\n",
       "      <td>56</td>\n",
       "    </tr>\n",
       "    <tr>\n",
       "      <th>4</th>\n",
       "      <td>4</td>\n",
       "      <td>31375</td>\n",
       "      <td>2015-05-31</td>\n",
       "      <td>31375_20150531</td>\n",
       "      <td>0</td>\n",
       "      <td>5.0</td>\n",
       "      <td>235</td>\n",
       "      <td>1.381</td>\n",
       "      <td>37</td>\n",
       "    </tr>\n",
       "  </tbody>\n",
       "</table>\n",
       "</div>"
      ],
      "text/plain": [
       "   index  Item_ID   Datetime              ID  Category_3  Category_2  \\\n",
       "0      0    31375 2015-05-27  31375_20150527           0         5.0   \n",
       "1      1    31375 2015-05-28  31375_20150528           0         5.0   \n",
       "2      2    31375 2015-05-29  31375_20150529           0         5.0   \n",
       "3      3    31375 2015-05-30  31375_20150530           0         5.0   \n",
       "4      4    31375 2015-05-31  31375_20150531           0         5.0   \n",
       "\n",
       "   Category_1  Price  Number_Of_Sales  \n",
       "0         235  0.882              133  \n",
       "1         235  0.787              113  \n",
       "2         235  0.942               59  \n",
       "3         235  1.049               56  \n",
       "4         235  1.381               37  "
      ]
     },
     "execution_count": 60,
     "metadata": {},
     "output_type": "execute_result"
    }
   ],
   "source": [
    "df.head()"
   ]
  },
  {
   "cell_type": "code",
   "execution_count": null,
   "metadata": {},
   "outputs": [],
   "source": [
    "#FE_ols = sm.ols(formula='np.log(Price) ~ Datetime + Item_ID + C(Category_1) + C(Category_3)',data=df).fit()"
   ]
  },
  {
   "cell_type": "code",
   "execution_count": 68,
   "metadata": {},
   "outputs": [],
   "source": [
    "from regressions.regressions import RDataFrame"
   ]
  },
  {
   "cell_type": "code",
   "execution_count": 69,
   "metadata": {},
   "outputs": [],
   "source": [
    "dt = RDataFrame(df)"
   ]
  },
  {
   "cell_type": "code",
   "execution_count": 71,
   "metadata": {},
   "outputs": [],
   "source": [
    "dt.xtset(i='Item_ID', t='Datetime')"
   ]
  },
  {
   "cell_type": "code",
   "execution_count": null,
   "metadata": {},
   "outputs": [],
   "source": [
    "dt.xtreg('Price ~ Item_ID + Datetime + Category_3', 'fe')"
   ]
  }
 ],
 "metadata": {
  "kernelspec": {
   "display_name": "Python 3",
   "language": "python",
   "name": "python3"
  },
  "language_info": {
   "codemirror_mode": {
    "name": "ipython",
    "version": 3
   },
   "file_extension": ".py",
   "mimetype": "text/x-python",
   "name": "python",
   "nbconvert_exporter": "python",
   "pygments_lexer": "ipython3",
   "version": "3.6.5"
  }
 },
 "nbformat": 4,
 "nbformat_minor": 2
}
