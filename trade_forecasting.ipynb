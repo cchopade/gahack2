{
 "cells": [
  {
   "cell_type": "code",
   "execution_count": 74,
   "metadata": {},
   "outputs": [],
   "source": [
    "import pandas as pd\n",
    "import matplotlib.pyplot as plt\n",
    "import datetime\n",
    "import numpy as np\n",
    "from tqdm import tqdm\n",
    "from statsmodels.tsa.arima_model import ARIMA\n",
    "from sklearn.metrics import mean_squared_error\n",
    "from tqdm import tqdm\n",
    "%matplotlib inline\n",
    "test_path = 'https://media.githubusercontent.com/media/cchopade/gahack2/master/test.csv'\n",
    "train_path = 'https://media.githubusercontent.com/media/cchopade/gahack2/master/train.csv'\n",
    "import warnings\n",
    "warnings.filterwarnings(\"ignore\")"
   ]
  },
  {
   "cell_type": "code",
   "execution_count": 130,
   "metadata": {},
   "outputs": [
    {
     "data": {
      "text/html": [
       "<div>\n",
       "<style scoped>\n",
       "    .dataframe tbody tr th:only-of-type {\n",
       "        vertical-align: middle;\n",
       "    }\n",
       "\n",
       "    .dataframe tbody tr th {\n",
       "        vertical-align: top;\n",
       "    }\n",
       "\n",
       "    .dataframe thead th {\n",
       "        text-align: right;\n",
       "    }\n",
       "</style>\n",
       "<table border=\"1\" class=\"dataframe\">\n",
       "  <thead>\n",
       "    <tr style=\"text-align: right;\">\n",
       "      <th></th>\n",
       "      <th>ID</th>\n",
       "      <th>Item_ID</th>\n",
       "      <th>Category_3</th>\n",
       "      <th>Category_2</th>\n",
       "      <th>Category_1</th>\n",
       "      <th>Price</th>\n",
       "      <th>Number_Of_Sales</th>\n",
       "    </tr>\n",
       "    <tr>\n",
       "      <th>Datetime</th>\n",
       "      <th></th>\n",
       "      <th></th>\n",
       "      <th></th>\n",
       "      <th></th>\n",
       "      <th></th>\n",
       "      <th></th>\n",
       "      <th></th>\n",
       "    </tr>\n",
       "  </thead>\n",
       "  <tbody>\n",
       "    <tr>\n",
       "      <th>2014-01-01</th>\n",
       "      <td>30495_20140101</td>\n",
       "      <td>30495</td>\n",
       "      <td>0</td>\n",
       "      <td>2.0</td>\n",
       "      <td>90</td>\n",
       "      <td>165.123</td>\n",
       "      <td>1</td>\n",
       "    </tr>\n",
       "    <tr>\n",
       "      <th>2014-01-01</th>\n",
       "      <td>30375_20140101</td>\n",
       "      <td>30375</td>\n",
       "      <td>0</td>\n",
       "      <td>2.0</td>\n",
       "      <td>307</td>\n",
       "      <td>68.666</td>\n",
       "      <td>5</td>\n",
       "    </tr>\n",
       "    <tr>\n",
       "      <th>2014-01-01</th>\n",
       "      <td>30011_20140101</td>\n",
       "      <td>30011</td>\n",
       "      <td>0</td>\n",
       "      <td>3.0</td>\n",
       "      <td>67</td>\n",
       "      <td>253.314</td>\n",
       "      <td>2</td>\n",
       "    </tr>\n",
       "    <tr>\n",
       "      <th>2014-01-01</th>\n",
       "      <td>30864_20140101</td>\n",
       "      <td>30864</td>\n",
       "      <td>0</td>\n",
       "      <td>2.0</td>\n",
       "      <td>315</td>\n",
       "      <td>223.122</td>\n",
       "      <td>1</td>\n",
       "    </tr>\n",
       "    <tr>\n",
       "      <th>2014-01-01</th>\n",
       "      <td>30780_20140101</td>\n",
       "      <td>30780</td>\n",
       "      <td>1</td>\n",
       "      <td>2.0</td>\n",
       "      <td>132</td>\n",
       "      <td>28.750</td>\n",
       "      <td>1</td>\n",
       "    </tr>\n",
       "  </tbody>\n",
       "</table>\n",
       "</div>"
      ],
      "text/plain": [
       "                        ID  Item_ID  Category_3  Category_2  Category_1  \\\n",
       "Datetime                                                                  \n",
       "2014-01-01  30495_20140101    30495           0         2.0          90   \n",
       "2014-01-01  30375_20140101    30375           0         2.0         307   \n",
       "2014-01-01  30011_20140101    30011           0         3.0          67   \n",
       "2014-01-01  30864_20140101    30864           0         2.0         315   \n",
       "2014-01-01  30780_20140101    30780           1         2.0         132   \n",
       "\n",
       "              Price  Number_Of_Sales  \n",
       "Datetime                              \n",
       "2014-01-01  165.123                1  \n",
       "2014-01-01   68.666                5  \n",
       "2014-01-01  253.314                2  \n",
       "2014-01-01  223.122                1  \n",
       "2014-01-01   28.750                1  "
      ]
     },
     "execution_count": 130,
     "metadata": {},
     "output_type": "execute_result"
    }
   ],
   "source": [
    "#df_train = pd.read_csv(train_path)\n",
    "df_test = pd.read_csv(test_path)\n",
    "#df_train.Datetime = pd.to_datetime(df_train.Datetime)\n",
    "\n",
    "df_train=pd.read_csv(train_path,index_col='Datetime',parse_dates=True)\n",
    "df_train.drop(labels = 'ID', axis = 1)\n",
    "df_train.head()"
   ]
  },
  {
   "cell_type": "code",
   "execution_count": 76,
   "metadata": {},
   "outputs": [
    {
     "data": {
      "text/plain": [
       "Index(['ID', 'Item_ID', 'Category_3', 'Category_2', 'Category_1', 'Price',\n",
       "       'Number_Of_Sales'],\n",
       "      dtype='object')"
      ]
     },
     "execution_count": 76,
     "metadata": {},
     "output_type": "execute_result"
    }
   ],
   "source": [
    "df_train.columns"
   ]
  },
  {
   "cell_type": "code",
   "execution_count": 84,
   "metadata": {},
   "outputs": [
    {
     "data": {
      "text/plain": [
       "<pandas.core.groupby.groupby.SeriesGroupBy object at 0x7f8ca5a12400>"
      ]
     },
     "execution_count": 84,
     "metadata": {},
     "output_type": "execute_result"
    }
   ],
   "source": [
    "df_train.groupby(['Datetime','Item_ID'])['Price']"
   ]
  },
  {
   "cell_type": "code",
   "execution_count": 32,
   "metadata": {},
   "outputs": [],
   "source": [
    "df = pd.read_csv(train_path)\n",
    "df.Datetime = pd.to_datetime(df.Datetime)\n",
    "df = df.set_index(['Item_ID','Datetime'])"
   ]
  },
  {
   "cell_type": "code",
   "execution_count": 33,
   "metadata": {},
   "outputs": [
    {
     "data": {
      "text/html": [
       "<div>\n",
       "<style scoped>\n",
       "    .dataframe tbody tr th:only-of-type {\n",
       "        vertical-align: middle;\n",
       "    }\n",
       "\n",
       "    .dataframe tbody tr th {\n",
       "        vertical-align: top;\n",
       "    }\n",
       "\n",
       "    .dataframe thead th {\n",
       "        text-align: right;\n",
       "    }\n",
       "</style>\n",
       "<table border=\"1\" class=\"dataframe\">\n",
       "  <thead>\n",
       "    <tr style=\"text-align: right;\">\n",
       "      <th></th>\n",
       "      <th></th>\n",
       "      <th>ID</th>\n",
       "      <th>Category_3</th>\n",
       "      <th>Category_2</th>\n",
       "      <th>Category_1</th>\n",
       "      <th>Price</th>\n",
       "      <th>Number_Of_Sales</th>\n",
       "    </tr>\n",
       "    <tr>\n",
       "      <th>Item_ID</th>\n",
       "      <th>Datetime</th>\n",
       "      <th></th>\n",
       "      <th></th>\n",
       "      <th></th>\n",
       "      <th></th>\n",
       "      <th></th>\n",
       "      <th></th>\n",
       "    </tr>\n",
       "  </thead>\n",
       "  <tbody>\n",
       "    <tr>\n",
       "      <th>30495</th>\n",
       "      <th>2014-01-01</th>\n",
       "      <td>30495_20140101</td>\n",
       "      <td>0</td>\n",
       "      <td>2.0</td>\n",
       "      <td>90</td>\n",
       "      <td>165.123</td>\n",
       "      <td>1</td>\n",
       "    </tr>\n",
       "    <tr>\n",
       "      <th>30375</th>\n",
       "      <th>2014-01-01</th>\n",
       "      <td>30375_20140101</td>\n",
       "      <td>0</td>\n",
       "      <td>2.0</td>\n",
       "      <td>307</td>\n",
       "      <td>68.666</td>\n",
       "      <td>5</td>\n",
       "    </tr>\n",
       "    <tr>\n",
       "      <th>30011</th>\n",
       "      <th>2014-01-01</th>\n",
       "      <td>30011_20140101</td>\n",
       "      <td>0</td>\n",
       "      <td>3.0</td>\n",
       "      <td>67</td>\n",
       "      <td>253.314</td>\n",
       "      <td>2</td>\n",
       "    </tr>\n",
       "    <tr>\n",
       "      <th>30864</th>\n",
       "      <th>2014-01-01</th>\n",
       "      <td>30864_20140101</td>\n",
       "      <td>0</td>\n",
       "      <td>2.0</td>\n",
       "      <td>315</td>\n",
       "      <td>223.122</td>\n",
       "      <td>1</td>\n",
       "    </tr>\n",
       "    <tr>\n",
       "      <th>30780</th>\n",
       "      <th>2014-01-01</th>\n",
       "      <td>30780_20140101</td>\n",
       "      <td>1</td>\n",
       "      <td>2.0</td>\n",
       "      <td>132</td>\n",
       "      <td>28.750</td>\n",
       "      <td>1</td>\n",
       "    </tr>\n",
       "  </tbody>\n",
       "</table>\n",
       "</div>"
      ],
      "text/plain": [
       "                                ID  Category_3  Category_2  Category_1  \\\n",
       "Item_ID Datetime                                                         \n",
       "30495   2014-01-01  30495_20140101           0         2.0          90   \n",
       "30375   2014-01-01  30375_20140101           0         2.0         307   \n",
       "30011   2014-01-01  30011_20140101           0         3.0          67   \n",
       "30864   2014-01-01  30864_20140101           0         2.0         315   \n",
       "30780   2014-01-01  30780_20140101           1         2.0         132   \n",
       "\n",
       "                      Price  Number_Of_Sales  \n",
       "Item_ID Datetime                              \n",
       "30495   2014-01-01  165.123                1  \n",
       "30375   2014-01-01   68.666                5  \n",
       "30011   2014-01-01  253.314                2  \n",
       "30864   2014-01-01  223.122                1  \n",
       "30780   2014-01-01   28.750                1  "
      ]
     },
     "execution_count": 33,
     "metadata": {},
     "output_type": "execute_result"
    }
   ],
   "source": [
    "df.head()"
   ]
  },
  {
   "cell_type": "code",
   "execution_count": 34,
   "metadata": {},
   "outputs": [
    {
     "data": {
      "text/html": [
       "<div>\n",
       "<style scoped>\n",
       "    .dataframe tbody tr th:only-of-type {\n",
       "        vertical-align: middle;\n",
       "    }\n",
       "\n",
       "    .dataframe tbody tr th {\n",
       "        vertical-align: top;\n",
       "    }\n",
       "\n",
       "    .dataframe thead th {\n",
       "        text-align: right;\n",
       "    }\n",
       "</style>\n",
       "<table border=\"1\" class=\"dataframe\">\n",
       "  <thead>\n",
       "    <tr style=\"text-align: right;\">\n",
       "      <th></th>\n",
       "      <th>Item_ID</th>\n",
       "      <th>Datetime</th>\n",
       "      <th>ID</th>\n",
       "      <th>Category_3</th>\n",
       "      <th>Category_2</th>\n",
       "      <th>Category_1</th>\n",
       "      <th>Price</th>\n",
       "      <th>Number_Of_Sales</th>\n",
       "    </tr>\n",
       "  </thead>\n",
       "  <tbody>\n",
       "    <tr>\n",
       "      <th>0</th>\n",
       "      <td>31375</td>\n",
       "      <td>2015-05-27</td>\n",
       "      <td>31375_20150527</td>\n",
       "      <td>0</td>\n",
       "      <td>5.0</td>\n",
       "      <td>235</td>\n",
       "      <td>0.882</td>\n",
       "      <td>133</td>\n",
       "    </tr>\n",
       "    <tr>\n",
       "      <th>1</th>\n",
       "      <td>31375</td>\n",
       "      <td>2015-05-28</td>\n",
       "      <td>31375_20150528</td>\n",
       "      <td>0</td>\n",
       "      <td>5.0</td>\n",
       "      <td>235</td>\n",
       "      <td>0.787</td>\n",
       "      <td>113</td>\n",
       "    </tr>\n",
       "    <tr>\n",
       "      <th>2</th>\n",
       "      <td>31375</td>\n",
       "      <td>2015-05-29</td>\n",
       "      <td>31375_20150529</td>\n",
       "      <td>0</td>\n",
       "      <td>5.0</td>\n",
       "      <td>235</td>\n",
       "      <td>0.942</td>\n",
       "      <td>59</td>\n",
       "    </tr>\n",
       "    <tr>\n",
       "      <th>3</th>\n",
       "      <td>31375</td>\n",
       "      <td>2015-05-30</td>\n",
       "      <td>31375_20150530</td>\n",
       "      <td>0</td>\n",
       "      <td>5.0</td>\n",
       "      <td>235</td>\n",
       "      <td>1.049</td>\n",
       "      <td>56</td>\n",
       "    </tr>\n",
       "    <tr>\n",
       "      <th>4</th>\n",
       "      <td>31375</td>\n",
       "      <td>2015-05-31</td>\n",
       "      <td>31375_20150531</td>\n",
       "      <td>0</td>\n",
       "      <td>5.0</td>\n",
       "      <td>235</td>\n",
       "      <td>1.381</td>\n",
       "      <td>37</td>\n",
       "    </tr>\n",
       "  </tbody>\n",
       "</table>\n",
       "</div>"
      ],
      "text/plain": [
       "   Item_ID   Datetime              ID  Category_3  Category_2  Category_1  \\\n",
       "0    31375 2015-05-27  31375_20150527           0         5.0         235   \n",
       "1    31375 2015-05-28  31375_20150528           0         5.0         235   \n",
       "2    31375 2015-05-29  31375_20150529           0         5.0         235   \n",
       "3    31375 2015-05-30  31375_20150530           0         5.0         235   \n",
       "4    31375 2015-05-31  31375_20150531           0         5.0         235   \n",
       "\n",
       "   Price  Number_Of_Sales  \n",
       "0  0.882              133  \n",
       "1  0.787              113  \n",
       "2  0.942               59  \n",
       "3  1.049               56  \n",
       "4  1.381               37  "
      ]
     },
     "execution_count": 34,
     "metadata": {},
     "output_type": "execute_result"
    }
   ],
   "source": [
    "df = df.sort_index(ascending=False)\n",
    "df.sort_values(['Item_ID','Datetime'],ascending=[False,True],inplace=True)\n",
    "df.reset_index(inplace=True)\n",
    "df.head()"
   ]
  },
  {
   "cell_type": "code",
   "execution_count": 35,
   "metadata": {},
   "outputs": [],
   "source": [
    "items = list(df.Item_ID.unique())"
   ]
  },
  {
   "cell_type": "code",
   "execution_count": 38,
   "metadata": {},
   "outputs": [
    {
     "data": {
      "text/html": [
       "<div>\n",
       "<style scoped>\n",
       "    .dataframe tbody tr th:only-of-type {\n",
       "        vertical-align: middle;\n",
       "    }\n",
       "\n",
       "    .dataframe tbody tr th {\n",
       "        vertical-align: top;\n",
       "    }\n",
       "\n",
       "    .dataframe thead th {\n",
       "        text-align: right;\n",
       "    }\n",
       "</style>\n",
       "<table border=\"1\" class=\"dataframe\">\n",
       "  <thead>\n",
       "    <tr style=\"text-align: right;\">\n",
       "      <th></th>\n",
       "      <th>Item_ID</th>\n",
       "      <th>Datetime</th>\n",
       "      <th>ID</th>\n",
       "      <th>Category_3</th>\n",
       "      <th>Category_2</th>\n",
       "      <th>Category_1</th>\n",
       "      <th>Price</th>\n",
       "      <th>Number_Of_Sales</th>\n",
       "      <th>day</th>\n",
       "      <th>week</th>\n",
       "      <th>month</th>\n",
       "      <th>year</th>\n",
       "    </tr>\n",
       "  </thead>\n",
       "  <tbody>\n",
       "    <tr>\n",
       "      <th>0</th>\n",
       "      <td>31375</td>\n",
       "      <td>2015-05-27</td>\n",
       "      <td>31375_20150527</td>\n",
       "      <td>0</td>\n",
       "      <td>5.0</td>\n",
       "      <td>235</td>\n",
       "      <td>0.882</td>\n",
       "      <td>133</td>\n",
       "      <td>27</td>\n",
       "      <td>22</td>\n",
       "      <td>5</td>\n",
       "      <td>2015</td>\n",
       "    </tr>\n",
       "    <tr>\n",
       "      <th>1</th>\n",
       "      <td>31375</td>\n",
       "      <td>2015-05-28</td>\n",
       "      <td>31375_20150528</td>\n",
       "      <td>0</td>\n",
       "      <td>5.0</td>\n",
       "      <td>235</td>\n",
       "      <td>0.787</td>\n",
       "      <td>113</td>\n",
       "      <td>28</td>\n",
       "      <td>22</td>\n",
       "      <td>5</td>\n",
       "      <td>2015</td>\n",
       "    </tr>\n",
       "    <tr>\n",
       "      <th>2</th>\n",
       "      <td>31375</td>\n",
       "      <td>2015-05-29</td>\n",
       "      <td>31375_20150529</td>\n",
       "      <td>0</td>\n",
       "      <td>5.0</td>\n",
       "      <td>235</td>\n",
       "      <td>0.942</td>\n",
       "      <td>59</td>\n",
       "      <td>29</td>\n",
       "      <td>22</td>\n",
       "      <td>5</td>\n",
       "      <td>2015</td>\n",
       "    </tr>\n",
       "    <tr>\n",
       "      <th>3</th>\n",
       "      <td>31375</td>\n",
       "      <td>2015-05-30</td>\n",
       "      <td>31375_20150530</td>\n",
       "      <td>0</td>\n",
       "      <td>5.0</td>\n",
       "      <td>235</td>\n",
       "      <td>1.049</td>\n",
       "      <td>56</td>\n",
       "      <td>30</td>\n",
       "      <td>22</td>\n",
       "      <td>5</td>\n",
       "      <td>2015</td>\n",
       "    </tr>\n",
       "    <tr>\n",
       "      <th>4</th>\n",
       "      <td>31375</td>\n",
       "      <td>2015-05-31</td>\n",
       "      <td>31375_20150531</td>\n",
       "      <td>0</td>\n",
       "      <td>5.0</td>\n",
       "      <td>235</td>\n",
       "      <td>1.381</td>\n",
       "      <td>37</td>\n",
       "      <td>31</td>\n",
       "      <td>22</td>\n",
       "      <td>5</td>\n",
       "      <td>2015</td>\n",
       "    </tr>\n",
       "  </tbody>\n",
       "</table>\n",
       "</div>"
      ],
      "text/plain": [
       "   Item_ID   Datetime              ID  Category_3  Category_2  Category_1  \\\n",
       "0    31375 2015-05-27  31375_20150527           0         5.0         235   \n",
       "1    31375 2015-05-28  31375_20150528           0         5.0         235   \n",
       "2    31375 2015-05-29  31375_20150529           0         5.0         235   \n",
       "3    31375 2015-05-30  31375_20150530           0         5.0         235   \n",
       "4    31375 2015-05-31  31375_20150531           0         5.0         235   \n",
       "\n",
       "   Price  Number_Of_Sales  day  week  month  year  \n",
       "0  0.882              133   27    22      5  2015  \n",
       "1  0.787              113   28    22      5  2015  \n",
       "2  0.942               59   29    22      5  2015  \n",
       "3  1.049               56   30    22      5  2015  \n",
       "4  1.381               37   31    22      5  2015  "
      ]
     },
     "execution_count": 38,
     "metadata": {},
     "output_type": "execute_result"
    }
   ],
   "source": [
    "df['day'] = df[\"Datetime\"].apply(lambda x: x.day)\n",
    "df['week'] = df[\"Datetime\"].apply(lambda x: x.week)\n",
    "df['month'] = df[\"Datetime\"].apply(lambda x: x.month)\n",
    "df['year'] = df[\"Datetime\"].apply(lambda x: x.year)\n",
    "df.head()"
   ]
  },
  {
   "cell_type": "code",
   "execution_count": 40,
   "metadata": {
    "scrolled": true
   },
   "outputs": [
    {
     "name": "stderr",
     "output_type": "stream",
     "text": [
      "/home/cchopade/anaconda3/lib/python3.6/site-packages/pandas/core/frame.py:3694: SettingWithCopyWarning: \n",
      "A value is trying to be set on a copy of a slice from a DataFrame\n",
      "\n",
      "See the caveats in the documentation: http://pandas.pydata.org/pandas-docs/stable/indexing.html#indexing-view-versus-copy\n",
      "  errors=errors)\n"
     ]
    },
    {
     "data": {
      "text/html": [
       "<div>\n",
       "<style scoped>\n",
       "    .dataframe tbody tr th:only-of-type {\n",
       "        vertical-align: middle;\n",
       "    }\n",
       "\n",
       "    .dataframe tbody tr th {\n",
       "        vertical-align: top;\n",
       "    }\n",
       "\n",
       "    .dataframe thead th {\n",
       "        text-align: right;\n",
       "    }\n",
       "</style>\n",
       "<table border=\"1\" class=\"dataframe\">\n",
       "  <thead>\n",
       "    <tr style=\"text-align: right;\">\n",
       "      <th></th>\n",
       "      <th>Item_ID</th>\n",
       "      <th>Datetime</th>\n",
       "      <th>Category_3</th>\n",
       "      <th>Category_2</th>\n",
       "      <th>Category_1</th>\n",
       "      <th>Price</th>\n",
       "      <th>Number_Of_Sales</th>\n",
       "      <th>day</th>\n",
       "      <th>week</th>\n",
       "      <th>month</th>\n",
       "      <th>year</th>\n",
       "    </tr>\n",
       "    <tr>\n",
       "      <th>Datetime</th>\n",
       "      <th></th>\n",
       "      <th></th>\n",
       "      <th></th>\n",
       "      <th></th>\n",
       "      <th></th>\n",
       "      <th></th>\n",
       "      <th></th>\n",
       "      <th></th>\n",
       "      <th></th>\n",
       "      <th></th>\n",
       "      <th></th>\n",
       "    </tr>\n",
       "  </thead>\n",
       "  <tbody>\n",
       "    <tr>\n",
       "      <th>2014-01-01</th>\n",
       "      <td>30258</td>\n",
       "      <td>2014-01-01</td>\n",
       "      <td>1</td>\n",
       "      <td>5.0</td>\n",
       "      <td>379</td>\n",
       "      <td>0.500</td>\n",
       "      <td>43</td>\n",
       "      <td>1</td>\n",
       "      <td>1</td>\n",
       "      <td>1</td>\n",
       "      <td>2014</td>\n",
       "    </tr>\n",
       "    <tr>\n",
       "      <th>2014-01-02</th>\n",
       "      <td>30258</td>\n",
       "      <td>2014-01-02</td>\n",
       "      <td>1</td>\n",
       "      <td>5.0</td>\n",
       "      <td>379</td>\n",
       "      <td>0.487</td>\n",
       "      <td>59</td>\n",
       "      <td>2</td>\n",
       "      <td>1</td>\n",
       "      <td>1</td>\n",
       "      <td>2014</td>\n",
       "    </tr>\n",
       "    <tr>\n",
       "      <th>2014-01-03</th>\n",
       "      <td>30258</td>\n",
       "      <td>2014-01-03</td>\n",
       "      <td>1</td>\n",
       "      <td>5.0</td>\n",
       "      <td>379</td>\n",
       "      <td>0.509</td>\n",
       "      <td>36</td>\n",
       "      <td>3</td>\n",
       "      <td>1</td>\n",
       "      <td>1</td>\n",
       "      <td>2014</td>\n",
       "    </tr>\n",
       "    <tr>\n",
       "      <th>2014-01-04</th>\n",
       "      <td>30258</td>\n",
       "      <td>2014-01-04</td>\n",
       "      <td>1</td>\n",
       "      <td>5.0</td>\n",
       "      <td>379</td>\n",
       "      <td>0.572</td>\n",
       "      <td>65</td>\n",
       "      <td>4</td>\n",
       "      <td>1</td>\n",
       "      <td>1</td>\n",
       "      <td>2014</td>\n",
       "    </tr>\n",
       "    <tr>\n",
       "      <th>2014-01-05</th>\n",
       "      <td>30258</td>\n",
       "      <td>2014-01-05</td>\n",
       "      <td>1</td>\n",
       "      <td>5.0</td>\n",
       "      <td>379</td>\n",
       "      <td>0.571</td>\n",
       "      <td>55</td>\n",
       "      <td>5</td>\n",
       "      <td>1</td>\n",
       "      <td>1</td>\n",
       "      <td>2014</td>\n",
       "    </tr>\n",
       "  </tbody>\n",
       "</table>\n",
       "</div>"
      ],
      "text/plain": [
       "            Item_ID   Datetime  Category_3  Category_2  Category_1  Price  \\\n",
       "Datetime                                                                    \n",
       "2014-01-01    30258 2014-01-01           1         5.0         379  0.500   \n",
       "2014-01-02    30258 2014-01-02           1         5.0         379  0.487   \n",
       "2014-01-03    30258 2014-01-03           1         5.0         379  0.509   \n",
       "2014-01-04    30258 2014-01-04           1         5.0         379  0.572   \n",
       "2014-01-05    30258 2014-01-05           1         5.0         379  0.571   \n",
       "\n",
       "            Number_Of_Sales  day  week  month  year  \n",
       "Datetime                                             \n",
       "2014-01-01               43    1     1      1  2014  \n",
       "2014-01-02               59    2     1      1  2014  \n",
       "2014-01-03               36    3     1      1  2014  \n",
       "2014-01-04               65    4     1      1  2014  \n",
       "2014-01-05               55    5     1      1  2014  "
      ]
     },
     "execution_count": 40,
     "metadata": {},
     "output_type": "execute_result"
    }
   ],
   "source": [
    "item1 = df[df.Item_ID == 30258]\n",
    "item1.set_index(item1.Datetime,inplace=True)\n",
    "item1.drop(labels=['ID'], axis = 1,inplace=True)\n",
    "item1.head()"
   ]
  },
  {
   "cell_type": "code",
   "execution_count": 41,
   "metadata": {},
   "outputs": [
    {
     "name": "stdout",
     "output_type": "stream",
     "text": [
      "<class 'pandas.core.frame.DataFrame'>\n",
      "DatetimeIndex: 885 entries, 2014-01-01 to 2016-06-03\n",
      "Data columns (total 11 columns):\n",
      "Item_ID            885 non-null int64\n",
      "Datetime           885 non-null datetime64[ns]\n",
      "Category_3         885 non-null int64\n",
      "Category_2         885 non-null float64\n",
      "Category_1         885 non-null int64\n",
      "Price              885 non-null float64\n",
      "Number_Of_Sales    885 non-null int64\n",
      "day                885 non-null int64\n",
      "week               885 non-null int64\n",
      "month              885 non-null int64\n",
      "year               885 non-null int64\n",
      "dtypes: datetime64[ns](1), float64(2), int64(8)\n",
      "memory usage: 83.0 KB\n"
     ]
    }
   ],
   "source": [
    "item1.info()"
   ]
  },
  {
   "cell_type": "code",
   "execution_count": 66,
   "metadata": {},
   "outputs": [
    {
     "data": {
      "text/plain": [
       "Datetime\n",
       "2014-01-01    0.500\n",
       "2014-01-02    0.487\n",
       "2014-01-03    0.509\n",
       "2014-01-04    0.572\n",
       "2014-01-05    0.571\n",
       "2014-01-06    0.565\n",
       "2014-01-07    0.565\n",
       "2014-01-08    0.597\n",
       "2014-01-09    0.546\n",
       "2014-01-10    0.538\n",
       "2014-01-11    0.506\n",
       "2014-01-12    0.544\n",
       "2014-01-13    0.587\n",
       "2014-01-14    0.543\n",
       "2014-01-15    0.544\n",
       "2014-01-16    0.524\n",
       "2014-01-17    0.520\n",
       "2014-01-18    0.537\n",
       "2014-01-19    0.577\n",
       "2014-01-20    0.557\n",
       "2014-01-21    0.575\n",
       "2014-01-22    0.580\n",
       "2014-01-23    0.547\n",
       "2014-01-24    0.630\n",
       "2014-01-25    0.597\n",
       "2014-01-26    0.504\n",
       "2014-01-27    0.480\n",
       "2014-01-28    0.510\n",
       "2014-01-29    0.473\n",
       "2014-01-30    0.449\n",
       "              ...  \n",
       "2014-03-02    0.794\n",
       "2014-03-03    0.823\n",
       "2014-03-04    0.904\n",
       "2014-03-05    0.903\n",
       "2014-03-06    1.026\n",
       "2014-03-07    0.837\n",
       "2014-03-08    0.729\n",
       "2014-03-09    0.720\n",
       "2014-03-10    0.809\n",
       "2014-03-11    0.741\n",
       "2014-03-12    0.881\n",
       "2014-03-13    0.854\n",
       "2014-03-14    0.907\n",
       "2014-03-15    0.716\n",
       "2014-03-16    0.731\n",
       "2014-03-17    0.897\n",
       "2014-03-18    0.883\n",
       "2014-03-19    0.821\n",
       "2014-03-20    0.809\n",
       "2014-03-21    0.861\n",
       "2014-03-22    0.784\n",
       "2014-03-23    0.803\n",
       "2014-03-24    0.833\n",
       "2014-03-25    0.879\n",
       "2014-03-26    0.873\n",
       "2014-03-27    0.940\n",
       "2014-03-28    0.865\n",
       "2014-03-29    0.849\n",
       "2014-03-30    0.836\n",
       "2014-03-31    0.910\n",
       "Name: Price, Length: 90, dtype: float64"
      ]
     },
     "execution_count": 66,
     "metadata": {},
     "output_type": "execute_result"
    }
   ],
   "source": [
    "item1.iloc[:90,:]['Price']"
   ]
  },
  {
   "cell_type": "code",
   "execution_count": 71,
   "metadata": {},
   "outputs": [
    {
     "name": "stderr",
     "output_type": "stream",
     "text": [
      "/home/cchopade/anaconda3/lib/python3.6/site-packages/statsmodels/base/model.py:508: ConvergenceWarning: Maximum Likelihood optimization failed to converge. Check mle_retvals\n",
      "  \"Check mle_retvals\", ConvergenceWarning)\n"
     ]
    },
    {
     "data": {
      "text/plain": [
       "0.22890351173357082"
      ]
     },
     "execution_count": 71,
     "metadata": {},
     "output_type": "execute_result"
    }
   ],
   "source": [
    "def evaluate_arima_model(X, arima_order):\n",
    "\t# prepare training dataset\n",
    "\ttrain_size = int(len(X) * 0.8)\n",
    "\ttrain, test = X[0:train_size], X[train_size:]\n",
    "\thistory = [x for x in train]\n",
    "\t# make predictions\n",
    "\tpredictions = list()\n",
    "\tfor t in range(len(test)):\n",
    "\t\tmodel = ARIMA(history, order=arima_order)\n",
    "\t\tmodel_fit = model.fit(disp=0)\n",
    "\t\tyhat = model_fit.forecast()[0]\n",
    "\t\tpredictions.append(yhat)\n",
    "\t\thistory.append(test[t])\n",
    "\t# calculate out of sample error\n",
    "\terror = mean_squared_error(test, predictions)\n",
    "\treturn error\n",
    "\n",
    "evaluate_arima_model(item1.iloc[:150,:]['Price'], (1,1,1))"
   ]
  },
  {
   "cell_type": "code",
   "execution_count": 78,
   "metadata": {},
   "outputs": [
    {
     "name": "stderr",
     "output_type": "stream",
     "text": [
      "\r",
      "  0%|          | 0/6 [00:00<?, ?it/s]"
     ]
    },
    {
     "name": "stdout",
     "output_type": "stream",
     "text": [
      "ARIMA(1, 1, 1) MSE=0.015\n"
     ]
    },
    {
     "name": "stderr",
     "output_type": "stream",
     "text": [
      "\r",
      " 17%|█▋        | 1/6 [00:45<03:47, 45.52s/it]"
     ]
    },
    {
     "name": "stdout",
     "output_type": "stream",
     "text": [
      "ARIMA(1, 1, 2) MSE=0.015\n",
      "ARIMA(2, 1, 1) MSE=0.015\n"
     ]
    },
    {
     "name": "stderr",
     "output_type": "stream",
     "text": [
      "\r",
      " 33%|███▎      | 2/6 [01:25<02:51, 42.95s/it]"
     ]
    },
    {
     "name": "stdout",
     "output_type": "stream",
     "text": [
      "ARIMA(4, 1, 1) MSE=0.015\n"
     ]
    },
    {
     "name": "stderr",
     "output_type": "stream",
     "text": [
      " 67%|██████▋   | 4/6 [04:05<02:02, 61.36s/it]"
     ]
    },
    {
     "name": "stdout",
     "output_type": "stream",
     "text": [
      "ARIMA(6, 1, 1) MSE=0.015\n",
      "ARIMA(8, 1, 1) MSE=0.016\n"
     ]
    },
    {
     "name": "stderr",
     "output_type": "stream",
     "text": [
      "\r",
      " 83%|████████▎ | 5/6 [12:52<02:34, 154.56s/it]"
     ]
    },
    {
     "name": "stdout",
     "output_type": "stream",
     "text": [
      "ARIMA(10, 1, 1) MSE=0.018\n",
      "ARIMA(10, 1, 2) MSE=0.016\n",
      "ARIMA(10, 2, 1) MSE=0.009\n"
     ]
    },
    {
     "name": "stderr",
     "output_type": "stream",
     "text": [
      "\r",
      "100%|██████████| 6/6 [31:43<00:00, 317.32s/it]"
     ]
    },
    {
     "name": "stdout",
     "output_type": "stream",
     "text": [
      "Best ARIMA(10, 2, 1) MSE=0.009\n"
     ]
    },
    {
     "name": "stderr",
     "output_type": "stream",
     "text": [
      "\n"
     ]
    }
   ],
   "source": [
    "def evaluate_models(dataset, p_values, d_values, q_values):\n",
    "\tdataset = dataset.astype('float32')\n",
    "\tbest_score, best_cfg = float(\"inf\"), None\n",
    "\tfor p in tqdm(p_values):\n",
    "\t\tfor d in d_values:\n",
    "\t\t\tfor q in q_values:\n",
    "\t\t\t\torder = (p,d,q)\n",
    "\t\t\t\ttry:\n",
    "\t\t\t\t\tmse = evaluate_arima_model(dataset, order)\n",
    "\t\t\t\t\tif mse < best_score:\n",
    "\t\t\t\t\t\tbest_score, best_cfg = mse, order\n",
    "\t\t\t\t\tprint('ARIMA%s MSE=%.3f' % (order,mse))\n",
    "\t\t\t\texcept:\n",
    "\t\t\t\t\tcontinue\n",
    "\tprint('Best ARIMA%s MSE=%.3f' % (best_cfg, best_score))\n",
    "    \n",
    "p = [1,2,4,6,8,10]\n",
    "q = [1,2]\n",
    "d = [1,2]\n",
    "\n",
    "evaluate_models(item1.iloc[:365,:]['Price'],p,d,q)"
   ]
  },
  {
   "cell_type": "code",
   "execution_count": 42,
   "metadata": {},
   "outputs": [],
   "source": [
    "import statsmodels.formula.api as sm"
   ]
  },
  {
   "cell_type": "code",
   "execution_count": 43,
   "metadata": {},
   "outputs": [
    {
     "data": {
      "text/html": [
       "<div>\n",
       "<style scoped>\n",
       "    .dataframe tbody tr th:only-of-type {\n",
       "        vertical-align: middle;\n",
       "    }\n",
       "\n",
       "    .dataframe tbody tr th {\n",
       "        vertical-align: top;\n",
       "    }\n",
       "\n",
       "    .dataframe thead th {\n",
       "        text-align: right;\n",
       "    }\n",
       "</style>\n",
       "<table border=\"1\" class=\"dataframe\">\n",
       "  <thead>\n",
       "    <tr style=\"text-align: right;\">\n",
       "      <th></th>\n",
       "      <th>Item_ID</th>\n",
       "      <th>Datetime</th>\n",
       "      <th>ID</th>\n",
       "      <th>Category_3</th>\n",
       "      <th>Category_2</th>\n",
       "      <th>Category_1</th>\n",
       "      <th>Price</th>\n",
       "      <th>Number_Of_Sales</th>\n",
       "      <th>day</th>\n",
       "      <th>week</th>\n",
       "      <th>month</th>\n",
       "      <th>year</th>\n",
       "    </tr>\n",
       "  </thead>\n",
       "  <tbody>\n",
       "    <tr>\n",
       "      <th>0</th>\n",
       "      <td>31375</td>\n",
       "      <td>2015-05-27</td>\n",
       "      <td>31375_20150527</td>\n",
       "      <td>0</td>\n",
       "      <td>5.0</td>\n",
       "      <td>235</td>\n",
       "      <td>0.882</td>\n",
       "      <td>133</td>\n",
       "      <td>27</td>\n",
       "      <td>22</td>\n",
       "      <td>5</td>\n",
       "      <td>2015</td>\n",
       "    </tr>\n",
       "    <tr>\n",
       "      <th>1</th>\n",
       "      <td>31375</td>\n",
       "      <td>2015-05-28</td>\n",
       "      <td>31375_20150528</td>\n",
       "      <td>0</td>\n",
       "      <td>5.0</td>\n",
       "      <td>235</td>\n",
       "      <td>0.787</td>\n",
       "      <td>113</td>\n",
       "      <td>28</td>\n",
       "      <td>22</td>\n",
       "      <td>5</td>\n",
       "      <td>2015</td>\n",
       "    </tr>\n",
       "    <tr>\n",
       "      <th>2</th>\n",
       "      <td>31375</td>\n",
       "      <td>2015-05-29</td>\n",
       "      <td>31375_20150529</td>\n",
       "      <td>0</td>\n",
       "      <td>5.0</td>\n",
       "      <td>235</td>\n",
       "      <td>0.942</td>\n",
       "      <td>59</td>\n",
       "      <td>29</td>\n",
       "      <td>22</td>\n",
       "      <td>5</td>\n",
       "      <td>2015</td>\n",
       "    </tr>\n",
       "    <tr>\n",
       "      <th>3</th>\n",
       "      <td>31375</td>\n",
       "      <td>2015-05-30</td>\n",
       "      <td>31375_20150530</td>\n",
       "      <td>0</td>\n",
       "      <td>5.0</td>\n",
       "      <td>235</td>\n",
       "      <td>1.049</td>\n",
       "      <td>56</td>\n",
       "      <td>30</td>\n",
       "      <td>22</td>\n",
       "      <td>5</td>\n",
       "      <td>2015</td>\n",
       "    </tr>\n",
       "    <tr>\n",
       "      <th>4</th>\n",
       "      <td>31375</td>\n",
       "      <td>2015-05-31</td>\n",
       "      <td>31375_20150531</td>\n",
       "      <td>0</td>\n",
       "      <td>5.0</td>\n",
       "      <td>235</td>\n",
       "      <td>1.381</td>\n",
       "      <td>37</td>\n",
       "      <td>31</td>\n",
       "      <td>22</td>\n",
       "      <td>5</td>\n",
       "      <td>2015</td>\n",
       "    </tr>\n",
       "  </tbody>\n",
       "</table>\n",
       "</div>"
      ],
      "text/plain": [
       "   Item_ID   Datetime              ID  Category_3  Category_2  Category_1  \\\n",
       "0    31375 2015-05-27  31375_20150527           0         5.0         235   \n",
       "1    31375 2015-05-28  31375_20150528           0         5.0         235   \n",
       "2    31375 2015-05-29  31375_20150529           0         5.0         235   \n",
       "3    31375 2015-05-30  31375_20150530           0         5.0         235   \n",
       "4    31375 2015-05-31  31375_20150531           0         5.0         235   \n",
       "\n",
       "   Price  Number_Of_Sales  day  week  month  year  \n",
       "0  0.882              133   27    22      5  2015  \n",
       "1  0.787              113   28    22      5  2015  \n",
       "2  0.942               59   29    22      5  2015  \n",
       "3  1.049               56   30    22      5  2015  \n",
       "4  1.381               37   31    22      5  2015  "
      ]
     },
     "execution_count": 43,
     "metadata": {},
     "output_type": "execute_result"
    }
   ],
   "source": [
    "df.head()"
   ]
  },
  {
   "cell_type": "code",
   "execution_count": null,
   "metadata": {},
   "outputs": [],
   "source": [
    "FE_ols = sm.ols(formula='np.log(Price) ~ Datetime + Item_ID + C(Category_1) + C(Category_3)',data=df).fit()"
   ]
  },
  {
   "cell_type": "code",
   "execution_count": 44,
   "metadata": {},
   "outputs": [],
   "source": [
    "from regressions.regressions import RDataFrame"
   ]
  },
  {
   "cell_type": "code",
   "execution_count": 45,
   "metadata": {},
   "outputs": [],
   "source": [
    "dt = RDataFrame(df)"
   ]
  },
  {
   "cell_type": "code",
   "execution_count": 46,
   "metadata": {},
   "outputs": [],
   "source": [
    "dt.xtset(i='Item_ID', t='Datetime')"
   ]
  },
  {
   "cell_type": "code",
   "execution_count": 57,
   "metadata": {},
   "outputs": [
    {
     "name": "stdout",
     "output_type": "stream",
     "text": [
      "                            OLS Regression Results                            \n",
      "==============================================================================\n",
      "Dep. Variable:          np.log(Price)   R-squared:                       0.583\n",
      "Model:                            OLS   Adj. R-squared:                  0.583\n",
      "Method:                 Least Squares   F-statistic:                 1.682e+10\n",
      "Date:                Sun, 03 Jun 2018   Prob (F-statistic):               0.00\n",
      "Time:                        05:25:33   Log-Likelihood:            -5.6548e+05\n",
      "No. Observations:              881876   AIC:                         1.131e+06\n",
      "Df Residuals:                  880344   BIC:                         1.131e+06\n",
      "Df Model:                           4                                         \n",
      "Covariance Type:              cluster                                         \n",
      "==============================================================================\n",
      "                 coef    std err          z      P>|z|      [0.025      0.975]\n",
      "------------------------------------------------------------------------------\n",
      "day           -0.0014   4.86e-05    -28.263      0.000      -0.001      -0.001\n",
      "week          -0.0022      0.000    -15.028      0.000      -0.003      -0.002\n",
      "month          0.0007      0.001      0.894      0.371      -0.001       0.002\n",
      "year          -0.0002   2.53e-06    -92.212      0.000      -0.000      -0.000\n",
      "==============================================================================\n",
      "Omnibus:                   276154.897   Durbin-Watson:                   0.237\n",
      "Prob(Omnibus):                  0.000   Jarque-Bera (JB):          3012437.722\n",
      "Skew:                           1.193   Prob(JB):                         0.00\n",
      "Kurtosis:                      11.734   Cond. No.                     2.04e+03\n",
      "==============================================================================\n",
      "\n",
      "Warnings:\n",
      "[1] Standard Errors are robust tocluster correlation (cluster)\n",
      "[2] The condition number is large, 2.04e+03. This might indicate that there are\n",
      "strong multicollinearity or other numerical problems.\n"
     ]
    },
    {
     "data": {
      "text/plain": [
       "<bound method RegressionResults.summary of <statsmodels.regression.linear_model.OLSResults object at 0x7f0e525b8da0>>"
      ]
     },
     "execution_count": 57,
     "metadata": {},
     "output_type": "execute_result"
    }
   ],
   "source": [
    "dt.xtreg('np.log(Price) ~ day + week + month + year  - 1', 'fe', 'robust')"
   ]
  }
 ],
 "metadata": {
  "kernelspec": {
   "display_name": "Python 3",
   "language": "python",
   "name": "python3"
  },
  "language_info": {
   "codemirror_mode": {
    "name": "ipython",
    "version": 3
   },
   "file_extension": ".py",
   "mimetype": "text/x-python",
   "name": "python",
   "nbconvert_exporter": "python",
   "pygments_lexer": "ipython3",
   "version": "3.6.5"
  }
 },
 "nbformat": 4,
 "nbformat_minor": 2
}
